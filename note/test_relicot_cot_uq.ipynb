{
 "cells": [
  {
   "cell_type": "markdown",
   "id": "8b82f134",
   "metadata": {},
   "source": [
    "\n",
    "# relicot: CoT & CoT-UQ Quick Tests\n",
    "\n",
    "このノートブックは、**CoT モジュール**と**CoT-UQ モジュール**の動作確認を最小構成で行います。  \n",
    "実行は **リポジトリのルート** で行ってください（`relicot/` パッケージをインポートできるように）。\n",
    "\n",
    "> 依存関係：本ノートは **ダミー生成関数／ダミースコアラ**で動作します。  \n",
    "> HuggingFace の実モデルで試す場合は、後半のセルのコメントを外して使用してください。\n"
   ]
  },
  {
   "cell_type": "code",
   "execution_count": null,
   "id": "f13f61c5",
   "metadata": {},
   "outputs": [],
   "source": [
    "\n",
    "import os, sys\n",
    "# リポジトリ直下で実行している想定（例: ./relicot/CoT/ ...）\n",
    "if os.path.isdir('relicot') and os.getcwd() not in sys.path:\n",
    "    sys.path.insert(0, os.getcwd())\n",
    "print('sys.path[0]:', sys.path[0])\n"
   ]
  },
  {
   "cell_type": "markdown",
   "id": "e78d6bd9",
   "metadata": {},
   "source": [
    "## 1. ダミー生成関数（モデル不要）で CoT をテスト"
   ]
  },
  {
   "cell_type": "code",
   "execution_count": null,
   "id": "6a0a578e",
   "metadata": {},
   "outputs": [],
   "source": [
    "\n",
    "from relicot.CoT.cot_module import CoTGenerator\n",
    "from relicot.CoT.cot_eval import EvalItem, evaluate_single, evaluate_self_consistency, vote_share\n",
    "from relicot.CoT.cot_eval import confidence_from_vote_share, expected_calibration_error, brier_score\n",
    "\n",
    "QUESTION = \"犬は色を識別できますか？\"\n",
    "\n",
    "def dummy_generate(prompt: str, max_new_tokens=256, temperature=0.7, top_p=0.95, stop=None):\n",
    "    # JSONモード検出\n",
    "    if \"JSONで出力してください\" in prompt or '{\"steps\":' in prompt:\n",
    "        return '{\"steps\": [\"犬の網膜には錐体があり色覚は限定的\", \"青と黄の弁別が中心\"], \"answer\": \"はい、限定的に可能\"}'\n",
    "    # キーワード抽出プロンプト検出（UQ用）\n",
    "    if \"Keywords for Each Reasoning Step\" in prompt:\n",
    "        return \"Step 1: 錐体細胞 (/8/); 青黄感受性 (/7/)\\nStep 2: NO ANSWER\\nStep 3: 二色型視覚 (/9/)\"\n",
    "    # 通常CoT\n",
    "    return (\n",
    "        \"Step 1: 犬の視細胞は杆体優位だが錐体も存在する。\\n\"\n",
    "        \"Step 2: 錐体の種類が限られ、青と黄の弁別は可能だが赤は弱い。\\n\"\n",
    "        \"Answer: はい、限定的に可能\"\n",
    "    )\n",
    "\n",
    "gen = CoTGenerator(generate_fn=dummy_generate)\n",
    "\n",
    "# run()\n",
    "out = gen.run(problem=QUESTION, template=\"cot_default_ja\")\n",
    "print(\"CoT answer:\", out[\"answer\"])\n",
    "print(\"CoT steps:\", out[\"steps\"])\n",
    "\n",
    "# run_json()\n",
    "out_json = gen.run_json(problem=QUESTION, template=\"cot_json_ja\")\n",
    "print(\"JSON answer:\", out_json[\"answer\"])\n",
    "\n",
    "# run_self_consistency()\n",
    "sc = gen.run_self_consistency(problem=QUESTION, template=\"cot_sc_ja\", k=5)\n",
    "print(\"SC answers:\", sc[\"answers\"])\n",
    "print(\"SC vote share:\", vote_share(sc[\"answers\"]))\n"
   ]
  },
  {
   "cell_type": "markdown",
   "id": "6411e1d1",
   "metadata": {},
   "source": [
    "## 2. 評価（正解判定・自己一貫性・キャリブレーションの素振り）"
   ]
  },
  {
   "cell_type": "code",
   "execution_count": null,
   "id": "a877eaa2",
   "metadata": {},
   "outputs": [],
   "source": [
    "\n",
    "# 正解判定（文字列正規化一致）\n",
    "item = EvalItem(problem=QUESTION, gold=\"はい、限定的に可能\")\n",
    "res = evaluate_single(out[\"answer\"], out[\"steps\"], item)\n",
    "print(\"correct:\", res.correct, \"reason:\", res.reason, \"step_stats:\", res.step_stats)\n",
    "\n",
    "# SC の最大得票率 → 確信度 proxy\n",
    "share = vote_share(sc[\"answers\"])\n",
    "conf_sc = confidence_from_vote_share(share)\n",
    "print(\"SC vote max:\", conf_sc)\n",
    "\n",
    "# 簡易ECE/Brier（ダミー：SCのmaxをconfとして使う例）\n",
    "ece = expected_calibration_error([conf_sc], [True])\n",
    "brier = brier_score(conf_sc, True)\n",
    "print(\"ECE (1-bin demo):\", ece, \"Brier:\", brier)\n"
   ]
  },
  {
   "cell_type": "markdown",
   "id": "c1b5a2ef",
   "metadata": {},
   "source": [
    "## 3. CoT-UQ（ダミースコアラでAP/SEを試す）"
   ]
  },
  {
   "cell_type": "code",
   "execution_count": null,
   "id": "fc73acda",
   "metadata": {},
   "outputs": [],
   "source": [
    "\n",
    "from relicot.UQ.uq_module import run_cotuq\n",
    "\n",
    "# ダミースコアラ（HuggingFace不要）\n",
    "class DummyScorer:\n",
    "    def __init__(self): pass\n",
    "    def seq_logprob(self, prompt: str, continuation: str):\n",
    "        # continuation（キーワード）が短いほど確率が高いという適当な近似\n",
    "        import math\n",
    "        n = max(1, len(continuation))\n",
    "        avg_lp = - (n / 20)  # 長いと低スコア\n",
    "        return type(\"R\", (), {\"total_logprob\": avg_lp * n, \"avg_logprob\": avg_lp, \"n_tokens\": n})()\n",
    "    def binary_choice_prob(self, prompt: str, opt_true: str=\" True\", opt_false: str=\" False\") -> float:\n",
    "        return 0.72  # 固定で True 72%\n",
    "\n",
    "scorer = DummyScorer()\n",
    "\n",
    "out_uq = run_cotuq(gen, QUESTION, scorer=scorer)\n",
    "print(\"AP confidence:\", out_uq.ap_confidence)\n",
    "print(\"SE confidences:\", out_uq.se_confidences)\n",
    "print(\"KW by step:\", out_uq.kw_by_step)\n"
   ]
  },
  {
   "cell_type": "markdown",
   "id": "f48c627b",
   "metadata": {},
   "source": [
    "## 4. 確信度の合成（SC × UQ(AP/SE)）"
   ]
  },
  {
   "cell_type": "code",
   "execution_count": null,
   "id": "dfda46fa",
   "metadata": {},
   "outputs": [],
   "source": [
    "\n",
    "from relicot.CoT.cot_eval import ConfidenceSignals, ConfidencePolicy, combine_confidence\n",
    "\n",
    "share = vote_share(sc[\"answers\"])\n",
    "ap = out_uq.ap_confidence or 0.0\n",
    "se = max(out_uq.se_confidences.values()) if out_uq.se_confidences else 0.0\n",
    "sig = ConfidenceSignals(sc_vote_share_max=(max(share.values()) if share else None),\n",
    "                        ap_conf=ap, se_conf=se)\n",
    "final_conf = combine_confidence(sig, ConfidencePolicy())\n",
    "print(\"Final combined confidence:\", final_conf)\n"
   ]
  },
  {
   "cell_type": "markdown",
   "id": "de740ded",
   "metadata": {},
   "source": [
    "## 5. （任意）HuggingFace の小モデルでの実行例"
   ]
  },
  {
   "cell_type": "code",
   "execution_count": null,
   "id": "8c037d19",
   "metadata": {},
   "outputs": [],
   "source": [
    "\n",
    "# ▼ 実モデルで試す場合はコメント解除\n",
    "# from transformers import AutoModelForCausalLM, AutoTokenizer\n",
    "# import torch\n",
    "# from relicot.UQ.uq_module import HFCausalLogProbScorer\n",
    "#\n",
    "# model_id = \"sshleifer/tiny-gpt2\"\n",
    "# tok = AutoTokenizer.from_pretrained(model_id)\n",
    "# mdl = AutoModelForCausalLM.from_pretrained(model_id).eval()\n",
    "# if torch.cuda.is_available():\n",
    "#     mdl = mdl.to(\"cuda\")\n",
    "#\n",
    "# gen_hf = CoTGenerator(\n",
    "#     generate_fn=lambda p, **kw: tok.decode(mdl.generate(\n",
    "#         **tok(p, return_tensors=\"pt\").to(mdl.device), max_new_tokens=128, do_sample=True\n",
    "#     )[0], skip_special_tokens=True)\n",
    "# )\n",
    "# scorer_hf = HFCausalLogProbScorer(mdl, tok)\n",
    "# out_hf = run_cotuq(gen_hf, QUESTION, scorer=scorer_hf)\n",
    "# out_hf.ap_confidence, out_hf.se_confidences\n"
   ]
  }
 ],
 "metadata": {},
 "nbformat": 4,
 "nbformat_minor": 5
}